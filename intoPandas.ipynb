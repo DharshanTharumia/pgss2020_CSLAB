{
  "nbformat": 4,
  "nbformat_minor": 0,
  "metadata": {
    "colab": {
      "name": "intoPandas.ipynb",
      "provenance": [],
      "collapsed_sections": [],
      "toc_visible": true,
      "authorship_tag": "ABX9TyNbK8/c948Ye/lhL5WcAaaz",
      "include_colab_link": true
    },
    "kernelspec": {
      "name": "python3",
      "display_name": "Python 3"
    }
  },
  "cells": [
    {
      "cell_type": "markdown",
      "metadata": {
        "id": "view-in-github",
        "colab_type": "text"
      },
      "source": [
        "<a href=\"https://colab.research.google.com/github/DharshanTharumia/pgss2020_CSLAB/blob/master/intoPandas.ipynb\" target=\"_parent\"><img src=\"https://colab.research.google.com/assets/colab-badge.svg\" alt=\"Open In Colab\"/></a>"
      ]
    },
    {
      "cell_type": "markdown",
      "metadata": {
        "id": "vZdwlzSFVDsK",
        "colab_type": "text"
      },
      "source": [
        "In this script, we:\n",
        "1. Connect Colab to our Google Drive\n",
        "2. Read a file from Github as a RAW file into a Pandas data frame\n",
        "3. Summarize that data\n",
        "4. Read a file from Google Drive into a separate Pandas data frame"
      ]
    },
    {
      "cell_type": "markdown",
      "metadata": {
        "id": "fef52CMiVVaO",
        "colab_type": "text"
      },
      "source": [
        "# Connect Colab to our Google Drive"
      ]
    },
    {
      "cell_type": "markdown",
      "metadata": {
        "id": "T_SaU7isVa4p",
        "colab_type": "text"
      },
      "source": [
        "# Read a file from Github as a RAW file into a Pandas data frame"
      ]
    },
    {
      "cell_type": "code",
      "metadata": {
        "id": "ajF4Hi90V8bQ",
        "colab_type": "code",
        "colab": {}
      },
      "source": [
        "import pandas as pd\n",
        "ChicagoData = pd.read_csv('https://raw.githubusercontent.com/menonpg/covid19_Chicago/master/timeSeries_COVID19_Chicago.csv')"
      ],
      "execution_count": 1,
      "outputs": []
    },
    {
      "cell_type": "markdown",
      "metadata": {
        "id": "u4lohfhIVdGY",
        "colab_type": "text"
      },
      "source": [
        "# Summarize that data"
      ]
    },
    {
      "cell_type": "code",
      "metadata": {
        "id": "Eh_LAztGWDPU",
        "colab_type": "code",
        "colab": {
          "base_uri": "https://localhost:8080/",
          "height": 85
        },
        "outputId": "7ee12cee-a4cc-4b67-8ca1-26450a28fc24"
      },
      "source": [
        "ChicagoData.aggregate('max')"
      ],
      "execution_count": 5,
      "outputs": [
        {
          "output_type": "execute_result",
          "data": {
            "text/plain": [
              "Cases          52813\n",
              "Deaths          2623\n",
              "Date      2020-07-02\n",
              "dtype: object"
            ]
          },
          "metadata": {
            "tags": []
          },
          "execution_count": 5
        }
      ]
    },
    {
      "cell_type": "markdown",
      "metadata": {
        "id": "qEUvyN2LVfgT",
        "colab_type": "text"
      },
      "source": [
        "# Read a file from Google Drive into a seperate Pandas data frame"
      ]
    }
  ]
}