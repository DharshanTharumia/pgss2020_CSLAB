{
  "nbformat": 4,
  "nbformat_minor": 0,
  "metadata": {
    "colab": {
      "name": "TrainAndTestARandomForestModel",
      "provenance": [],
      "collapsed_sections": []
    },
    "kernelspec": {
      "name": "python3",
      "display_name": "Python 3"
    }
  },
  "cells": [
    {
      "cell_type": "markdown",
      "metadata": {
        "id": "ooWfk2UdB6n8",
        "colab_type": "text"
      },
      "source": [
        "# Load in the data"
      ]
    },
    {
      "cell_type": "code",
      "metadata": {
        "id": "HqmKCNXsBxPA",
        "colab_type": "code",
        "colab": {}
      },
      "source": [
        "import pandas as pd\n",
        "IrisFromUCI = pd.read_csv('https://archive.ics.uci.edu/ml/machine-learning-databases/iris/iris.data', header=None)\n",
        "IrisFromUCI.columns = ['SepalLength','SepalWidth','PetalLength','PetalWidth','Species']\n",
        "IrisFromUCI.to_csv('IrisFromUCI.csv')"
      ],
      "execution_count": 39,
      "outputs": []
    },
    {
      "cell_type": "code",
      "metadata": {
        "id": "PK0F1lvMCANN",
        "colab_type": "code",
        "colab": {}
      },
      "source": [
        ""
      ],
      "execution_count": 39,
      "outputs": []
    },
    {
      "cell_type": "code",
      "metadata": {
        "id": "SWvncJ3dCAhw",
        "colab_type": "code",
        "colab": {}
      },
      "source": [
        ""
      ],
      "execution_count": 39,
      "outputs": []
    },
    {
      "cell_type": "code",
      "metadata": {
        "id": "vulkfkfQCAzQ",
        "colab_type": "code",
        "colab": {}
      },
      "source": [
        ""
      ],
      "execution_count": 39,
      "outputs": []
    },
    {
      "cell_type": "markdown",
      "metadata": {
        "id": "KLmJ4nnnD5jf",
        "colab_type": "text"
      },
      "source": [
        "# Let's split our data into training and test portions"
      ]
    },
    {
      "cell_type": "code",
      "metadata": {
        "id": "VD0QnDWWCBC-",
        "colab_type": "code",
        "colab": {}
      },
      "source": [
        "from sklearn.model_selection import train_test_split\n",
        "\n",
        "X=IrisFromUCI[['SepalLength','SepalWidth','PetalLength','PetalWidth']]  # Features\n",
        "y=IrisFromUCI['Species']  # Labels\n",
        "\n",
        "X_train, X_test, y_train, y_test = train_test_split(X, y, test_size=0.3) # 70% training and 30% test\n"
      ],
      "execution_count": 40,
      "outputs": []
    },
    {
      "cell_type": "code",
      "metadata": {
        "id": "ca6fkqy4CtqX",
        "colab_type": "code",
        "colab": {
          "base_uri": "https://localhost:8080/",
          "height": 119
        },
        "outputId": "57183a9a-19bd-456b-ad95-f808e38e60b4"
      },
      "source": [
        "y_train.head()"
      ],
      "execution_count": 41,
      "outputs": [
        {
          "output_type": "execute_result",
          "data": {
            "text/plain": [
              "79     Iris-versicolor\n",
              "11         Iris-setosa\n",
              "117     Iris-virginica\n",
              "91     Iris-versicolor\n",
              "9          Iris-setosa\n",
              "Name: Species, dtype: object"
            ]
          },
          "metadata": {
            "tags": []
          },
          "execution_count": 41
        }
      ]
    },
    {
      "cell_type": "markdown",
      "metadata": {
        "id": "k-8ZDuLiF04E",
        "colab_type": "text"
      },
      "source": [
        "Train a model - Random Forest"
      ]
    },
    {
      "cell_type": "code",
      "metadata": {
        "id": "Onq-sJ4fDBMJ",
        "colab_type": "code",
        "colab": {}
      },
      "source": [
        "from sklearn.ensemble import RandomForestClassifier\n",
        "\n",
        "clf=RandomForestClassifier(n_estimators=100)\n",
        "\n",
        "clf.fit(X_train,y_train)\n",
        "y_pred = clf.predict(X_test)"
      ],
      "execution_count": 42,
      "outputs": []
    },
    {
      "cell_type": "markdown",
      "metadata": {
        "id": "xtO9mM-nF2zn",
        "colab_type": "text"
      },
      "source": [
        "# Evalulate the model"
      ]
    },
    {
      "cell_type": "code",
      "metadata": {
        "id": "35M89GlpFaCR",
        "colab_type": "code",
        "colab": {
          "base_uri": "https://localhost:8080/",
          "height": 34
        },
        "outputId": "a84ea8d1-9b2a-49c4-a245-f4a47691106a"
      },
      "source": [
        "from sklearn import metrics\n",
        "print(\"Accuracy:\", metrics.accuracy_score(y_test,y_pred))"
      ],
      "execution_count": 43,
      "outputs": [
        {
          "output_type": "stream",
          "text": [
            "Accuracy: 0.9555555555555556\n"
          ],
          "name": "stdout"
        }
      ]
    },
    {
      "cell_type": "markdown",
      "metadata": {
        "id": "1Iywql0LF4uq",
        "colab_type": "text"
      },
      "source": [
        "# Testing the model on a new record of our creation"
      ]
    },
    {
      "cell_type": "code",
      "metadata": {
        "id": "_xgOMJ8wEQ0g",
        "colab_type": "code",
        "colab": {
          "base_uri": "https://localhost:8080/",
          "height": 35
        },
        "outputId": "cb047579-0c96-4c91-c5ce-51f746b42a4b"
      },
      "source": [
        "species_idx = clf.predict([[6,4,6,7]])[0]\n",
        "species_idx"
      ],
      "execution_count": 46,
      "outputs": [
        {
          "output_type": "execute_result",
          "data": {
            "application/vnd.google.colaboratory.intrinsic": {
              "type": "string"
            },
            "text/plain": [
              "'Iris-virginica'"
            ]
          },
          "metadata": {
            "tags": []
          },
          "execution_count": 46
        }
      ]
    },
    {
      "cell_type": "markdown",
      "metadata": {
        "id": "UN1IhhTvF700",
        "colab_type": "text"
      },
      "source": [
        "# Let's see what drives the model's decision making abilities"
      ]
    },
    {
      "cell_type": "code",
      "metadata": {
        "id": "OjteV3qVE3IX",
        "colab_type": "code",
        "colab": {
          "base_uri": "https://localhost:8080/",
          "height": 102
        },
        "outputId": "ec8b59ad-ece5-4cdf-ac6f-09f86a3402fb"
      },
      "source": [
        "import pandas as pd\n",
        "feature_imp = pd.Series(clf.feature_importances_, index=['SepalLength','SepalWidth','PetalLength','PetalWidth']).sort_values(ascending=False)\n",
        "feature_imp"
      ],
      "execution_count": 45,
      "outputs": [
        {
          "output_type": "execute_result",
          "data": {
            "text/plain": [
              "PetalLength    0.473676\n",
              "PetalWidth     0.420244\n",
              "SepalLength    0.072078\n",
              "SepalWidth     0.034002\n",
              "dtype: float64"
            ]
          },
          "metadata": {
            "tags": []
          },
          "execution_count": 45
        }
      ]
    },
    {
      "cell_type": "code",
      "metadata": {
        "id": "O3-6B2LLFHRn",
        "colab_type": "code",
        "colab": {}
      },
      "source": [
        ""
      ],
      "execution_count": 45,
      "outputs": []
    }
  ]
}